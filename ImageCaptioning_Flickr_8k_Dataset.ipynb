{
  "nbformat": 4,
  "nbformat_minor": 0,
  "metadata": {
    "accelerator": "GPU",
    "colab": {
      "name": "ImageCaptioning_Flickr_8k_Dataset.ipynb",
      "provenance": [],
      "toc_visible": true,
      "include_colab_link": true
    },
    "kernelspec": {
      "display_name": "Python 3",
      "name": "python3"
    }
  },
  "cells": [
    {
      "cell_type": "markdown",
      "metadata": {
        "id": "view-in-github",
        "colab_type": "text"
      },
      "source": [
        "<a href=\"https://colab.research.google.com/github/dangcaptkd2/ImageCaptioning/blob/son/ImageCaptioning_Flickr_8k_Dataset.ipynb\" target=\"_parent\"><img src=\"https://colab.research.google.com/assets/colab-badge.svg\" alt=\"Open In Colab\"/></a>"
      ]
    },
    {
      "cell_type": "markdown",
      "metadata": {
        "id": "3IC8XvaJQFZf"
      },
      "source": [
        "##SON\n"
      ]
    },
    {
      "cell_type": "code",
      "metadata": {
        "id": "uw0G1reoPkEy",
        "outputId": "c69c4c81-c5e4-43ad-a6f0-25850419482b",
        "colab": {
          "base_uri": "https://localhost:8080/"
        }
      },
      "source": [
        "!git clone https://github.com/dangcaptkd2/ImageCaptioning"
      ],
      "execution_count": 1,
      "outputs": [
        {
          "output_type": "stream",
          "text": [
            "Cloning into 'ImageCaptioning'...\n",
            "remote: Enumerating objects: 20, done.\u001b[K\n",
            "remote: Counting objects: 100% (20/20), done.\u001b[K\n",
            "remote: Compressing objects: 100% (12/12), done.\u001b[K\n",
            "remote: Total 20 (delta 5), reused 14 (delta 2), pack-reused 0\u001b[K\n",
            "Unpacking objects: 100% (20/20), done.\n"
          ],
          "name": "stdout"
        }
      ]
    },
    {
      "cell_type": "code",
      "metadata": {
        "id": "4xnE_Pgo2Tbo"
      },
      "source": [
        "from numpy import array\n",
        "import numpy as np\n",
        "import pandas as pd\n",
        "import matplotlib.pyplot as plt\n",
        "%matplotlib inline\n",
        "import string\n",
        "import os\n",
        "import zipfile\n",
        "from PIL import Image\n",
        "import glob\n",
        "from pickle import dump, load\n",
        "import pickle\n",
        "from time import time\n",
        "from keras.preprocessing import sequence\n",
        "from keras.models import Sequential\n",
        "from keras.layers import LSTM, Embedding, TimeDistributed, Dense, RepeatVector,\\\n",
        "                         Activation, Flatten, Reshape, concatenate, Dropout, BatchNormalization\n",
        "                    \n",
        "from keras.optimizers import Adam, RMSprop\n",
        "from keras.layers.wrappers import Bidirectional\n",
        "from keras.layers.merge import add\n",
        "from keras.applications.inception_v3 import InceptionV3\n",
        "from keras.preprocessing import image\n",
        "from keras.models import Model\n",
        "from keras import Input, layers\n",
        "from keras import optimizers\n",
        "from keras.applications.inception_v3 import preprocess_input\n",
        "from keras.preprocessing.text import Tokenizer\n",
        "from keras.preprocessing.sequence import pad_sequences\n",
        "from keras.utils import to_categorical\n",
        "\n",
        "from keras.applications.resnet50 import ResNet50\n",
        "\n",
        "import keras.preprocessing.image"
      ],
      "execution_count": null,
      "outputs": []
    },
    {
      "cell_type": "markdown",
      "metadata": {
        "id": "zSUY76mrIUvo"
      },
      "source": [
        "# Load, preprocess dataset\n"
      ]
    },
    {
      "cell_type": "markdown",
      "metadata": {
        "id": "80A9Vf6zK9Yv"
      },
      "source": [
        "### Dowload, show, clean caption and understand dataset"
      ]
    },
    {
      "cell_type": "code",
      "metadata": {
        "colab": {
          "resources": {
            "http://localhost:8080/nbextensions/google.colab/files.js": {
              "data": "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",
              "ok": true,
              "headers": [
                [
                  "content-type",
                  "application/javascript"
                ]
              ],
              "status": 200,
              "status_text": ""
            }
          },
          "base_uri": "https://localhost:8080/",
          "height": 89
        },
        "id": "TPLyRT-kzuK5",
        "outputId": "78992713-18d0-481d-bd7a-17abf4057596"
      },
      "source": [
        "from google.colab import files\n",
        "files.upload()"
      ],
      "execution_count": null,
      "outputs": [
        {
          "output_type": "display_data",
          "data": {
            "text/html": [
              "\n",
              "     <input type=\"file\" id=\"files-4e1c77ea-b7f5-450b-bd24-e1cbb8fffcb2\" name=\"files[]\" multiple disabled\n",
              "        style=\"border:none\" />\n",
              "     <output id=\"result-4e1c77ea-b7f5-450b-bd24-e1cbb8fffcb2\">\n",
              "      Upload widget is only available when the cell has been executed in the\n",
              "      current browser session. Please rerun this cell to enable.\n",
              "      </output>\n",
              "      <script src=\"/nbextensions/google.colab/files.js\"></script> "
            ],
            "text/plain": [
              "<IPython.core.display.HTML object>"
            ]
          },
          "metadata": {
            "tags": []
          }
        },
        {
          "output_type": "stream",
          "text": [
            "Saving kaggle.json to kaggle.json\n"
          ],
          "name": "stdout"
        },
        {
          "output_type": "execute_result",
          "data": {
            "text/plain": [
              "{'kaggle.json': b'{\"username\":\"quyennguyenthinh\",\"key\":\"52c200c7cee98c6a1dd7c6433c61afd8\"}'}"
            ]
          },
          "metadata": {
            "tags": []
          },
          "execution_count": 2
        }
      ]
    },
    {
      "cell_type": "code",
      "metadata": {
        "colab": {
          "base_uri": "https://localhost:8080/"
        },
        "id": "viSCvSIS0Irh",
        "outputId": "2452146b-70e6-40e1-fa60-3dbc530187db"
      },
      "source": [
        "!pip install -q kaggle\n",
        "!mkdir -p ~/.kaggle\n",
        "!cp kaggle.json ~/.kaggle/\n",
        "!chmod 600 ~/.kaggle/kaggle.json\n",
        "!kaggle datasets download -d shadabhussain/flickr8k"
      ],
      "execution_count": null,
      "outputs": [
        {
          "output_type": "stream",
          "text": [
            "Downloading flickr8k.zip to /content\n",
            "100% 2.13G/2.13G [00:25<00:00, 37.8MB/s]\n",
            "100% 2.13G/2.13G [00:25<00:00, 88.4MB/s]\n"
          ],
          "name": "stdout"
        }
      ]
    },
    {
      "cell_type": "code",
      "metadata": {
        "id": "_ylPvMtK1Vz6"
      },
      "source": [
        "with zipfile.ZipFile(\"/content/flickr8k.zip\",\"r\") as zip_ref:\n",
        "    zip_ref.extractall(\"/content/\")"
      ],
      "execution_count": null,
      "outputs": []
    },
    {
      "cell_type": "code",
      "metadata": {
        "colab": {
          "base_uri": "https://localhost:8080/"
        },
        "id": "A2d-fFY-1B-v",
        "outputId": "3f115939-dde5-4e96-9fed-daac7fe9822e"
      },
      "source": [
        "# load doc into memory\n",
        "def load_doc(filename):\n",
        "\t# open the file as read only\n",
        "\tfile = open(filename, 'r')\n",
        "\t# read all text\n",
        "\ttext = file.read()\n",
        "\t# close the file\n",
        "\tfile.close()\n",
        "\treturn text\n",
        "\n",
        "filename = \"/content/flickr_data/Flickr_Data/Flickr_TextData/Flickr8k.token.txt\"\n",
        "# load descriptions\n",
        "doc = load_doc(filename)\n",
        "print(doc[:300])"
      ],
      "execution_count": null,
      "outputs": [
        {
          "output_type": "stream",
          "text": [
            "1000268201_693b08cb0e.jpg#0\tA child in a pink dress is climbing up a set of stairs in an entry way .\n",
            "1000268201_693b08cb0e.jpg#1\tA girl going into a wooden building .\n",
            "1000268201_693b08cb0e.jpg#2\tA little girl climbing into a wooden playhouse .\n",
            "1000268201_693b08cb0e.jpg#3\tA little girl climbing the s\n"
          ],
          "name": "stdout"
        }
      ]
    },
    {
      "cell_type": "markdown",
      "metadata": {
        "id": "mlTQrY1TXvo-"
      },
      "source": [
        "Load description as a dictionary"
      ]
    },
    {
      "cell_type": "code",
      "metadata": {
        "colab": {
          "base_uri": "https://localhost:8080/"
        },
        "id": "fPUHGUR31uON",
        "outputId": "921fd769-6e09-4492-d36c-687d90ed823d"
      },
      "source": [
        "def load_descriptions(doc):\n",
        "\tmapping = dict()\n",
        "\t# process lines\n",
        "\tfor line in doc.split('\\n'):\n",
        "\t\t# split line by white space\n",
        "\t\ttokens = line.split()\n",
        "\t\tif len(line) < 2:\n",
        "\t\t\tcontinue\n",
        "\t\t# take the first token as the image id, the rest as the description\n",
        "\t\timage_id, image_desc = tokens[0], tokens[1:]\n",
        "\t\t# extract filename from image id\n",
        "\t\timage_id = image_id.split('.')[0]\n",
        "\t\t# convert description tokens back to string\n",
        "\t\timage_desc = ' '.join(image_desc)\n",
        "\t\t# create the list if needed\n",
        "\t\tif image_id not in mapping:\n",
        "\t\t\tmapping[image_id] = list()\n",
        "\t\t# store description\n",
        "\t\tmapping[image_id].append(image_desc)\n",
        "\treturn mapping\n",
        "\n",
        "# parse descriptions\n",
        "descriptions = load_descriptions(doc)\n",
        "print('Loaded: %d ' % len(descriptions))"
      ],
      "execution_count": null,
      "outputs": [
        {
          "output_type": "stream",
          "text": [
            "Loaded: 8092 \n"
          ],
          "name": "stdout"
        }
      ]
    },
    {
      "cell_type": "code",
      "metadata": {
        "colab": {
          "base_uri": "https://localhost:8080/"
        },
        "id": "FP8Bc2je8IBD",
        "outputId": "fb98e033-6df5-48b6-d640-f304e706f5af"
      },
      "source": [
        "descriptions['1000268201_693b08cb0e']"
      ],
      "execution_count": null,
      "outputs": [
        {
          "output_type": "execute_result",
          "data": {
            "text/plain": [
              "['A child in a pink dress is climbing up a set of stairs in an entry way .',\n",
              " 'A girl going into a wooden building .',\n",
              " 'A little girl climbing into a wooden playhouse .',\n",
              " 'A little girl climbing the stairs to her playhouse .',\n",
              " 'A little girl in a pink dress going into a wooden cabin .']"
            ]
          },
          "metadata": {
            "tags": []
          },
          "execution_count": 7
        }
      ]
    },
    {
      "cell_type": "markdown",
      "metadata": {
        "id": "ajwr9-XEX22L"
      },
      "source": [
        "Clean caption"
      ]
    },
    {
      "cell_type": "code",
      "metadata": {
        "id": "ibZfnasm2OrI"
      },
      "source": [
        "def clean_descriptions(descriptions):\n",
        "\t# prepare translation table for removing punctuation\n",
        "\ttable = str.maketrans('', '', string.punctuation)\n",
        "\tfor key, desc_list in descriptions.items():\n",
        "\t\tfor i in range(len(desc_list)):\n",
        "\t\t\tdesc = desc_list[i]\n",
        "\t\t\t# tokenize\n",
        "\t\t\tdesc = desc.split()\n",
        "\t\t\t# convert to lower case\n",
        "\t\t\tdesc = [word.lower() for word in desc]\n",
        "\t\t\t# remove punctuation from each token\n",
        "\t\t\tdesc = [w.translate(table) for w in desc]\n",
        "\t\t\t# remove hanging 's' and 'a'\n",
        "\t\t\tdesc = [word for word in desc if len(word)>1]\n",
        "\t\t\t# remove tokens with numbers in them\n",
        "\t\t\tdesc = [word for word in desc if word.isalpha()]\n",
        "\t\t\t# store as string\n",
        "\t\t\tdesc_list[i] =  ' '.join(desc)\n",
        "\n",
        "# clean descriptions\n",
        "clean_descriptions(descriptions)"
      ],
      "execution_count": null,
      "outputs": []
    },
    {
      "cell_type": "code",
      "metadata": {
        "colab": {
          "base_uri": "https://localhost:8080/"
        },
        "id": "vVHSCuEV2kMN",
        "outputId": "10fafdc2-3896-469b-b066-4d38ff1dc217"
      },
      "source": [
        "# convert the loaded descriptions into a vocabulary of words\n",
        "def to_vocabulary(descriptions):\n",
        "\t# build a list of all description strings\n",
        "\tall_desc = set()\n",
        "\tfor key in descriptions.keys():\n",
        "\t\t[all_desc.update(d.split()) for d in descriptions[key]]\n",
        "\treturn all_desc\n",
        "\n",
        "# summarize vocabulary\n",
        "vocabulary = to_vocabulary(descriptions)\n",
        "print('Original Vocabulary Size: %d' % len(vocabulary))"
      ],
      "execution_count": null,
      "outputs": [
        {
          "output_type": "stream",
          "text": [
            "Original Vocabulary Size: 8763\n"
          ],
          "name": "stdout"
        }
      ]
    },
    {
      "cell_type": "code",
      "metadata": {
        "id": "kIoKj1ef3HGB"
      },
      "source": [
        "# save descriptions to file, one per line\n",
        "def save_descriptions(descriptions, filename):\n",
        "\tlines = list()\n",
        "\tfor key, desc_list in descriptions.items():\n",
        "\t\tfor desc in desc_list:\n",
        "\t\t\tlines.append(key + ' ' + desc)\n",
        "\tdata = '\\n'.join(lines)\n",
        "\tfile = open(filename, 'w')\n",
        "\tfile.write(data)\n",
        "\tfile.close()\n",
        "\n",
        "save_descriptions(descriptions, 'descriptions.txt')"
      ],
      "execution_count": null,
      "outputs": []
    },
    {
      "cell_type": "code",
      "metadata": {
        "colab": {
          "base_uri": "https://localhost:8080/"
        },
        "id": "CNKEZvdK6UxO",
        "outputId": "5b9657b0-31d4-48aa-cf50-13ca7112d95f"
      },
      "source": [
        "# load a pre-defined list of photo identifiers\n",
        "def load_set(filename):\n",
        "\tdoc = load_doc(filename)\n",
        "\tdataset = list()\n",
        "\t# process line by line\n",
        "\tfor line in doc.split('\\n'):\n",
        "\t\t# skip empty lines\n",
        "\t\tif len(line) < 1:\n",
        "\t\t\tcontinue\n",
        "\t\t# get the image identifier\n",
        "\t\tidentifier = line.split('.')[0]\n",
        "\t\tdataset.append(identifier)\n",
        "\treturn set(dataset)\n",
        "\n",
        "# load training dataset (6K)\n",
        "filename = '/content/flickr_data/Flickr_Data/Flickr_TextData/Flickr_8k.trainImages.txt'\n",
        "train = load_set(filename)\n",
        "print('Dataset train: %d' % len(train))\n",
        "\n",
        "filename = '/content/flickr_data/Flickr_Data/Flickr_TextData/Flickr_8k.testImages.txt'\n",
        "test = load_set(filename)\n",
        "print('Dataset test: %d' % len(test))"
      ],
      "execution_count": null,
      "outputs": [
        {
          "output_type": "stream",
          "text": [
            "Dataset train: 6000\n",
            "Dataset test: 1000\n"
          ],
          "name": "stdout"
        }
      ]
    },
    {
      "cell_type": "code",
      "metadata": {
        "id": "qjhWcgu5FIeM"
      },
      "source": [
        "# Below path contains all the images\n",
        "images = '/content/flickr_data/Flickr_Data/Images/'\n",
        "# Create a list of all image names in the directory\n",
        "img = glob.glob(images + '*.jpg')"
      ],
      "execution_count": null,
      "outputs": []
    },
    {
      "cell_type": "code",
      "metadata": {
        "id": "D5VmrfapFbGh"
      },
      "source": [
        "# Below file conatains the names of images to be used in train data\n",
        "train_images_file = '/content/flickr_data/Flickr_Data/Flickr_TextData/Flickr_8k.trainImages.txt'\n",
        "test_images_file = '/content/flickr_data/Flickr_Data/Flickr_TextData/Flickr_8k.testImages.txt'\n",
        "# Read the train image names in a set\n",
        "train_images = set(open(train_images_file, 'r').read().strip().split('\\n'))\n",
        "test_images = set(open(test_images_file, 'r').read().strip().split('\\n'))\n",
        "\n",
        "# Create a list of all the training images with their full path names\n",
        "train_img = []\n",
        "test_img= []\n",
        "\n",
        "for i in img: # img is list of full path names of all images\n",
        "    if i[len(images):] in train_images: # Check if the image belongs to training set\n",
        "        train_img.append(i) # Add it to the list of train images\n",
        "\n",
        "for i in img: # img is list of full path names of all images\n",
        "    if i[len(images):] in test_images: # Check if the image belongs to training set\n",
        "        test_img.append(i) # Add it to the list of train images"
      ],
      "execution_count": null,
      "outputs": []
    },
    {
      "cell_type": "code",
      "metadata": {
        "colab": {
          "base_uri": "https://localhost:8080/"
        },
        "id": "q9S2H9hAJcU0",
        "outputId": "af2885a4-d66d-4d9c-fad6-d88131dda9e8"
      },
      "source": [
        "len(train_img)"
      ],
      "execution_count": null,
      "outputs": [
        {
          "output_type": "execute_result",
          "data": {
            "text/plain": [
              "6000"
            ]
          },
          "metadata": {
            "tags": []
          },
          "execution_count": 17
        }
      ]
    },
    {
      "cell_type": "code",
      "metadata": {
        "colab": {
          "base_uri": "https://localhost:8080/"
        },
        "id": "EviHG9boa8VN",
        "outputId": "b79bf1ef-32c8-4c1f-dad4-152b8ebdd2f4"
      },
      "source": [
        "train_img[:5]"
      ],
      "execution_count": null,
      "outputs": [
        {
          "output_type": "execute_result",
          "data": {
            "text/plain": [
              "['/content/flickr_data/Flickr_Data/Images/2663248626_f000f2661d.jpg',\n",
              " '/content/flickr_data/Flickr_Data/Images/2088460083_42ee8a595a.jpg',\n",
              " '/content/flickr_data/Flickr_Data/Images/2473293833_78820d2eaa.jpg',\n",
              " '/content/flickr_data/Flickr_Data/Images/3550459890_161f436c8d.jpg',\n",
              " '/content/flickr_data/Flickr_Data/Images/2619454551_c4bb726a85.jpg']"
            ]
          },
          "metadata": {
            "tags": []
          },
          "execution_count": 18
        }
      ]
    },
    {
      "cell_type": "code",
      "metadata": {
        "id": "GyZqBdp9WQvn"
      },
      "source": [
        "# Below file conatains the names of images to be used in test data\n",
        "test_images_file = '/content/flickr_data/Flickr_Data/Flickr_TextData/Flickr_8k.testImages.txt'\n",
        "# Read the validation image names in a set# Read the test image names in a set\n",
        "test_images = set(open(test_images_file, 'r').read().strip().split('\\n'))\n",
        "\n",
        "# Create a list of all the test images with their full path names\n",
        "test_img = []\n",
        "\n",
        "for i in img: # img is list of full path names of all images\n",
        "    if i[len(images):] in test_images: # Check if the image belongs to test set\n",
        "        test_img.append(i) # Add it to the list of test images"
      ],
      "execution_count": null,
      "outputs": []
    },
    {
      "cell_type": "code",
      "metadata": {
        "colab": {
          "base_uri": "https://localhost:8080/"
        },
        "id": "luTJQIrIWX2Q",
        "outputId": "e05d875d-c8f1-4ec7-9958-36e678269b0f"
      },
      "source": [
        "len(test_img)"
      ],
      "execution_count": null,
      "outputs": [
        {
          "output_type": "execute_result",
          "data": {
            "text/plain": [
              "1000"
            ]
          },
          "metadata": {
            "tags": []
          },
          "execution_count": 20
        }
      ]
    },
    {
      "cell_type": "code",
      "metadata": {
        "colab": {
          "base_uri": "https://localhost:8080/"
        },
        "id": "R25ScZuzWliH",
        "outputId": "a9980327-fe95-4d18-9a6c-e0fcec0267ae"
      },
      "source": [
        "# load clean descriptions into memory\n",
        "def load_clean_descriptions(filename, dataset):\n",
        "\t# load document\n",
        "\tdoc = load_doc(filename)\n",
        "\tdescriptions = dict()\n",
        "\tfor line in doc.split('\\n'):\n",
        "\t\t# split line by white space\n",
        "\t\ttokens = line.split()\n",
        "\t\t# split id from description\n",
        "\t\timage_id, image_desc = tokens[0], tokens[1:]\n",
        "\t\t# skip images not in the set\n",
        "\t\tif image_id in dataset:\n",
        "\t\t\t# create list\n",
        "\t\t\tif image_id not in descriptions:\n",
        "\t\t\t\tdescriptions[image_id] = list()\n",
        "\t\t\t# wrap description in tokens\n",
        "\t\t\tdesc = 'startseq ' + ' '.join(image_desc) + ' endseq'\n",
        "\t\t\t# store\n",
        "\t\t\tdescriptions[image_id].append(desc)\n",
        "\treturn descriptions\n",
        "\n",
        "# descriptions\n",
        "train_descriptions = load_clean_descriptions('descriptions.txt', train)\n",
        "print('Descriptions: train=%d' % len(train_descriptions))"
      ],
      "execution_count": null,
      "outputs": [
        {
          "output_type": "stream",
          "text": [
            "Descriptions: train=6000\n"
          ],
          "name": "stdout"
        }
      ]
    },
    {
      "cell_type": "code",
      "metadata": {
        "colab": {
          "base_uri": "https://localhost:8080/"
        },
        "id": "IG4d2G3dy-bD",
        "outputId": "9095947e-2e44-48e6-b0f1-d04adf927211"
      },
      "source": [
        "test_descriptions = load_clean_descriptions('descriptions.txt', test)\n",
        "print('Descriptions: test=%d' % len(test_descriptions))"
      ],
      "execution_count": null,
      "outputs": [
        {
          "output_type": "stream",
          "text": [
            "Descriptions: test=1000\n"
          ],
          "name": "stdout"
        }
      ]
    },
    {
      "cell_type": "markdown",
      "metadata": {
        "id": "RKk2QX00IfS9"
      },
      "source": [
        "# Data preprocessing - Images"
      ]
    },
    {
      "cell_type": "code",
      "metadata": {
        "id": "QLdWHJomDaTM"
      },
      "source": [
        "def preprocess(image_path):\n",
        "    # Convert all the images to size 299x299 as expected by the inception v3 model\n",
        "    img = keras.preprocessing.image.load_img(image_path, target_size=(299, 299))\n",
        "    # Convert PIL image to numpy array of 3-dimensions\n",
        "    x = keras.preprocessing.image.img_to_array(img)\n",
        "    # Add one more dimension\n",
        "    x = np.expand_dims(x, axis=0)\n",
        "    # preprocess the images using preprocess_input() from inception module\n",
        "    x = preprocess_input(x)\n",
        "    return x"
      ],
      "execution_count": null,
      "outputs": []
    },
    {
      "cell_type": "code",
      "metadata": {
        "colab": {
          "base_uri": "https://localhost:8080/"
        },
        "id": "ml5NEepADsf9",
        "outputId": "c63dbf2b-1e10-4b02-dfcc-bf8e4ed8e079"
      },
      "source": [
        "# Load the inception v3 model\n",
        "model = InceptionV3(weights='imagenet')"
      ],
      "execution_count": null,
      "outputs": [
        {
          "output_type": "stream",
          "text": [
            "Downloading data from https://storage.googleapis.com/tensorflow/keras-applications/inception_v3/inception_v3_weights_tf_dim_ordering_tf_kernels.h5\n",
            "96116736/96112376 [==============================] - 1s 0us/step\n"
          ],
          "name": "stdout"
        }
      ]
    },
    {
      "cell_type": "code",
      "metadata": {
        "id": "1BGSf4K7D8UG"
      },
      "source": [
        "# Create a new model, by removing the last layer (output layer) from the inception v3\n",
        "model_new = Model(model.input, model.layers[-2].output)"
      ],
      "execution_count": null,
      "outputs": []
    },
    {
      "cell_type": "code",
      "metadata": {
        "id": "NCCtmRdIEBrO"
      },
      "source": [
        "# Function to encode a given image into a vector of size (2048, )\n",
        "def encode(image_path):\n",
        "    image = preprocess(image_path) # preprocess the image\n",
        "    fea_vec = model_new.predict(image) # Get the encoding vector for the image\n",
        "    fea_vec = np.reshape(fea_vec, fea_vec.shape[1]) # reshape from (1, 2048) to (2048, )\n",
        "    return fea_vec"
      ],
      "execution_count": null,
      "outputs": []
    },
    {
      "cell_type": "code",
      "metadata": {
        "colab": {
          "base_uri": "https://localhost:8080/",
          "height": 52
        },
        "id": "RonoyWhHEC7K",
        "outputId": "a1841af6-9f27-430a-c7fd-898ce6d61f37"
      },
      "source": [
        "# Call the funtion to encode all the train images\n",
        "# This will take a while on CPU - Execute this only once\n",
        "\"\"\"start = time()\n",
        "encoding_train = {}\n",
        "for img in train_img:\n",
        "    encoding_train[img[len(images):]] = encode(img)\n",
        "print(\"Time taken in seconds =\", time()-start)\"\"\""
      ],
      "execution_count": null,
      "outputs": [
        {
          "output_type": "execute_result",
          "data": {
            "application/vnd.google.colaboratory.intrinsic+json": {
              "type": "string"
            },
            "text/plain": [
              "'start = time()\\nencoding_train = {}\\nfor img in train_img:\\n    encoding_train[img[len(images):]] = encode(img)\\nprint(\"Time taken in seconds =\", time()-start)'"
            ]
          },
          "metadata": {
            "tags": []
          },
          "execution_count": 27
        }
      ]
    },
    {
      "cell_type": "code",
      "metadata": {
        "id": "_wVwyivjQH9Q"
      },
      "source": [
        "# Save the bottleneck train features to disk\n",
        "#with open(\"/content/drive/My Drive/Image captioning/encoded_train_images_3.pkl\", \"wb\") as encoded_pickle:\n",
        " #   pickle.dump(encoding_train, encoded_pickle)"
      ],
      "execution_count": null,
      "outputs": []
    },
    {
      "cell_type": "code",
      "metadata": {
        "colab": {
          "base_uri": "https://localhost:8080/",
          "height": 35
        },
        "id": "3gAO2IhMRXNe",
        "outputId": "3ec52a19-4e77-4404-8797-bebcd1ba73a5"
      },
      "source": [
        "# Call the funtion to encode all the test images - Execute this only once\n",
        "\"\"\"start = time()\n",
        "encoding_test = {}\n",
        "for img in test_img:\n",
        "    encoding_test[img[len(images):]] = encode(img)\n",
        "print(\"Time taken in seconds =\", time()-start)\"\"\""
      ],
      "execution_count": null,
      "outputs": [
        {
          "output_type": "execute_result",
          "data": {
            "application/vnd.google.colaboratory.intrinsic+json": {
              "type": "string"
            },
            "text/plain": [
              "'start = time()\\nencoding_test = {}\\nfor img in test_img:\\n    encoding_test[img[len(images):]] = encode(img)\\nprint(\"Time taken in seconds =\", time()-start)'"
            ]
          },
          "metadata": {
            "tags": []
          },
          "execution_count": 29
        }
      ]
    },
    {
      "cell_type": "code",
      "metadata": {
        "colab": {
          "base_uri": "https://localhost:8080/"
        },
        "id": "jrzbL3tTUFqC",
        "outputId": "07f081fb-21cc-43cf-d408-f0343c139d64"
      },
      "source": [
        "train_features = load(open(\"/content/drive/My Drive/Image captioning/encoded_train_images_3.pkl\", \"rb\"))\n",
        "print('Photos: train=%d' % len(train_features))"
      ],
      "execution_count": null,
      "outputs": [
        {
          "output_type": "stream",
          "text": [
            "Photos: train=6000\n"
          ],
          "name": "stdout"
        }
      ]
    },
    {
      "cell_type": "code",
      "metadata": {
        "colab": {
          "base_uri": "https://localhost:8080/"
        },
        "id": "K8ZSjKsy03PU",
        "outputId": "d3e2dc2e-dd23-4133-e249-8b1de86483dd"
      },
      "source": [
        "test_features = load(open(\"/content/drive/MyDrive/Image captioning/encoded_test_images_3.pkl\", \"rb\"))\n",
        "print('Photos: test=%d' % len(test_features))"
      ],
      "execution_count": null,
      "outputs": [
        {
          "output_type": "stream",
          "text": [
            "Photos: test=1000\n"
          ],
          "name": "stdout"
        }
      ]
    },
    {
      "cell_type": "markdown",
      "metadata": {
        "id": "WPFfikD8I_jv"
      },
      "source": [
        "# Data preprocessing - caption"
      ]
    },
    {
      "cell_type": "code",
      "metadata": {
        "id": "YJ9q3BytUWxu",
        "colab": {
          "base_uri": "https://localhost:8080/"
        },
        "outputId": "2cc33fb1-0f55-46d6-cf04-d861b76f48ba"
      },
      "source": [
        "# Create a list of all the training captions\n",
        "all_train_captions = []\n",
        "for key, val in train_descriptions.items():\n",
        "    for cap in val:\n",
        "        all_train_captions.append(cap)\n",
        "len(all_train_captions)"
      ],
      "execution_count": null,
      "outputs": [
        {
          "output_type": "execute_result",
          "data": {
            "text/plain": [
              "30000"
            ]
          },
          "metadata": {
            "tags": []
          },
          "execution_count": 32
        }
      ]
    },
    {
      "cell_type": "code",
      "metadata": {
        "id": "JIpWiutC26DB",
        "colab": {
          "base_uri": "https://localhost:8080/"
        },
        "outputId": "930a378d-8590-4c61-d4fa-9e4e2922ef08"
      },
      "source": [
        "#Create a list of all the testing captions\n",
        "all_test_captions = []\n",
        "for key, val in test_descriptions.items():\n",
        "    for cap in val:\n",
        "        all_test_captions.append(cap)\n",
        "len(all_test_captions)"
      ],
      "execution_count": null,
      "outputs": [
        {
          "output_type": "execute_result",
          "data": {
            "text/plain": [
              "5000"
            ]
          },
          "metadata": {
            "tags": []
          },
          "execution_count": 33
        }
      ]
    },
    {
      "cell_type": "code",
      "metadata": {
        "id": "qc_79kfGUfJA",
        "colab": {
          "base_uri": "https://localhost:8080/"
        },
        "outputId": "524ff626-80fb-4b3d-e1a3-f2894ac1565d"
      },
      "source": [
        "# Consider only words which occur at least 10 times in the corpus\n",
        "word_count_threshold = 10\n",
        "word_counts = {}\n",
        "nsents = 0\n",
        "for sent in all_train_captions:\n",
        "    nsents += 1\n",
        "    for w in sent.split(' '):\n",
        "        word_counts[w] = word_counts.get(w, 0) + 1\n",
        "\n",
        "vocab = [w for w in word_counts if word_counts[w] >= word_count_threshold]\n",
        "print('preprocessed words %d -> %d' % (len(word_counts), len(vocab)))"
      ],
      "execution_count": null,
      "outputs": [
        {
          "output_type": "stream",
          "text": [
            "preprocessed words 7578 -> 1651\n"
          ],
          "name": "stdout"
        }
      ]
    },
    {
      "cell_type": "code",
      "metadata": {
        "id": "TBGXOttsUq-q"
      },
      "source": [
        "ixtoword = {}\n",
        "wordtoix = {}\n",
        "\n",
        "ix = 1\n",
        "for w in vocab:\n",
        "    wordtoix[w] = ix\n",
        "    ixtoword[ix] = w\n",
        "    ix += 1"
      ],
      "execution_count": null,
      "outputs": []
    },
    {
      "cell_type": "code",
      "metadata": {
        "id": "sfyOehZpU54B",
        "colab": {
          "base_uri": "https://localhost:8080/"
        },
        "outputId": "beafa8d2-bcd1-4b26-a5ed-d8e4e1cea60f"
      },
      "source": [
        "vocab_size = len(ixtoword) + 1 # one for appended 0's\n",
        "vocab_size"
      ],
      "execution_count": null,
      "outputs": [
        {
          "output_type": "execute_result",
          "data": {
            "text/plain": [
              "1652"
            ]
          },
          "metadata": {
            "tags": []
          },
          "execution_count": 36
        }
      ]
    },
    {
      "cell_type": "code",
      "metadata": {
        "colab": {
          "base_uri": "https://localhost:8080/"
        },
        "id": "Rh1qkdRD2FCb",
        "outputId": "7208e385-21fe-4f66-d5f7-3363af5256cb"
      },
      "source": [
        "# Consider only words which occur at least 10 times in the corpus\n",
        "word_count_threshold = 10\n",
        "word_counts = {}\n",
        "nsents = 0\n",
        "for sent in all_test_captions:\n",
        "    nsents += 1\n",
        "    for w in sent.split(' '):\n",
        "        word_counts[w] = word_counts.get(w, 0) + 1\n",
        "\n",
        "vocab_test = [w for w in word_counts if word_counts[w] >= word_count_threshold]\n",
        "print('preprocessed words TEST %d -> %d' % (len(word_counts), len(vocab_test)))"
      ],
      "execution_count": null,
      "outputs": [
        {
          "output_type": "stream",
          "text": [
            "preprocessed words TEST 3178 -> 526\n"
          ],
          "name": "stdout"
        }
      ]
    },
    {
      "cell_type": "code",
      "metadata": {
        "id": "Y2M5_cYH2S7F"
      },
      "source": [
        "ixtoword_test = {}\n",
        "wordtoix_test = {}\n",
        "\n",
        "ix = 1\n",
        "for w in vocab_test:\n",
        "    wordtoix_test[w] = ix\n",
        "    ixtoword_test[ix] = w\n",
        "    ix += 1"
      ],
      "execution_count": null,
      "outputs": []
    },
    {
      "cell_type": "code",
      "metadata": {
        "colab": {
          "base_uri": "https://localhost:8080/"
        },
        "id": "CwctfNTo2irR",
        "outputId": "4dd67ae3-f7e2-46fe-f8f4-923028d188b8"
      },
      "source": [
        "vocab_size_test = len(ixtoword_test) + 1 # one for appended 0's\n",
        "vocab_size_test"
      ],
      "execution_count": null,
      "outputs": [
        {
          "output_type": "execute_result",
          "data": {
            "text/plain": [
              "527"
            ]
          },
          "metadata": {
            "tags": []
          },
          "execution_count": 39
        }
      ]
    },
    {
      "cell_type": "code",
      "metadata": {
        "id": "8z2aszJKU8Xy",
        "colab": {
          "base_uri": "https://localhost:8080/"
        },
        "outputId": "0b561ffa-0440-491f-896e-0cca27e8ae1a"
      },
      "source": [
        "# convert a dictionary of clean descriptions to a list of descriptions\n",
        "def to_lines(descriptions):\n",
        "\tall_desc = list()\n",
        "\tfor key in descriptions.keys():\n",
        "\t\t[all_desc.append(d) for d in descriptions[key]]\n",
        "\treturn all_desc\n",
        "\n",
        "# calculate the length of the description with the most words\n",
        "def max_length(descriptions):\n",
        "\tlines = to_lines(descriptions)\n",
        "\treturn max(len(d.split()) for d in lines)\n",
        "\n",
        "# determine the maximum sequence length\n",
        "max_length = max_length(train_descriptions)\n",
        "print('Description Length: %d' % max_length)"
      ],
      "execution_count": null,
      "outputs": [
        {
          "output_type": "stream",
          "text": [
            "Description Length: 34\n"
          ],
          "name": "stdout"
        }
      ]
    },
    {
      "cell_type": "code",
      "metadata": {
        "id": "UNcVq1x7huMf",
        "colab": {
          "base_uri": "https://localhost:8080/"
        },
        "outputId": "006fd176-e27f-4cbd-8ab9-6e1746688d33"
      },
      "source": [
        "train_descriptions['1000268201_693b08cb0e']"
      ],
      "execution_count": null,
      "outputs": [
        {
          "output_type": "execute_result",
          "data": {
            "text/plain": [
              "['startseq child in pink dress is climbing up set of stairs in an entry way endseq',\n",
              " 'startseq girl going into wooden building endseq',\n",
              " 'startseq little girl climbing into wooden playhouse endseq',\n",
              " 'startseq little girl climbing the stairs to her playhouse endseq',\n",
              " 'startseq little girl in pink dress going into wooden cabin endseq']"
            ]
          },
          "metadata": {
            "tags": []
          },
          "execution_count": 41
        }
      ]
    },
    {
      "cell_type": "code",
      "metadata": {
        "id": "p6YzFQVGVW_o"
      },
      "source": [
        "# data generator, intended to be used in a call to model.fit_generator()\n",
        "def data_generator(descriptions, photos, wordtoix, max_length, num_photos_per_batch):\n",
        "    X1, X2, y = list(), list(), list()\n",
        "    n=0\n",
        "    # loop for ever over images\n",
        "    while 1:\n",
        "        for key, desc_list in descriptions.items():\n",
        "            n+=1\n",
        "            # retrieve the photo feature\n",
        "            photo = photos[key+'.jpg']\n",
        "            for desc in desc_list:\n",
        "                # encode the sequence\n",
        "                seq = [wordtoix[word] for word in desc.split(' ') if word in wordtoix]\n",
        "                # split one sequence into multiple X, y pairs\n",
        "                for i in range(1, len(seq)):\n",
        "                    # split into input and output pair\n",
        "                    in_seq, out_seq = seq[:i], seq[i]\n",
        "                    # pad input sequence\n",
        "                    in_seq = pad_sequences([in_seq], maxlen=max_length)[0]\n",
        "                    # encode output sequence\n",
        "                    out_seq = to_categorical([out_seq], num_classes=vocab_size)[0]\n",
        "                    # store\n",
        "                    X1.append(photo)\n",
        "                    X2.append(in_seq)\n",
        "                    y.append(out_seq)\n",
        "            # yield the batch data\n",
        "            if n==num_photos_per_batch:\n",
        "                yield ([array(X1), array(X2)], array(y))\n",
        "                X1, X2, y = list(), list(), list()\n",
        "                n=0"
      ],
      "execution_count": null,
      "outputs": []
    },
    {
      "cell_type": "code",
      "metadata": {
        "id": "Xeorql1SWp9v"
      },
      "source": [
        "with zipfile.ZipFile(\"/content/drive/My Drive/Image captioning/glove.6B.zip\",\"r\") as zip_ref:\n",
        "    zip_ref.extractall(\"/content/\")"
      ],
      "execution_count": null,
      "outputs": []
    },
    {
      "cell_type": "code",
      "metadata": {
        "id": "TUiynn1BJ1TN",
        "colab": {
          "base_uri": "https://localhost:8080/"
        },
        "outputId": "cc75ca93-c737-4f25-cd70-44a209b5f10b"
      },
      "source": [
        "embeddings_index = {} # empty dictionary\n",
        "f = open('/content/glove.6B.200d.txt', encoding=\"utf-8\")\n",
        "\n",
        "for line in f:\n",
        "    values = line.split()\n",
        "    word = values[0]\n",
        "    coefs = np.asarray(values[1:], dtype='float32')\n",
        "    embeddings_index[word] = coefs\n",
        "f.close()\n",
        "print('Found %s word vectors.' % len(embeddings_index))"
      ],
      "execution_count": null,
      "outputs": [
        {
          "output_type": "stream",
          "text": [
            "Found 400000 word vectors.\n"
          ],
          "name": "stdout"
        }
      ]
    },
    {
      "cell_type": "code",
      "metadata": {
        "id": "9e_nsEfGDmyd",
        "colab": {
          "base_uri": "https://localhost:8080/"
        },
        "outputId": "4a39197b-0c3f-4a44-fd23-b50dde68f684"
      },
      "source": [
        "embeddings_index['the']"
      ],
      "execution_count": null,
      "outputs": [
        {
          "output_type": "execute_result",
          "data": {
            "text/plain": [
              "array([-7.1549e-02,  9.3459e-02,  2.3738e-02, -9.0339e-02,  5.6123e-02,\n",
              "        3.2547e-01, -3.9796e-01, -9.2139e-02,  6.1181e-02, -1.8950e-01,\n",
              "        1.3061e-01,  1.4349e-01,  1.1479e-02,  3.8158e-01,  5.4030e-01,\n",
              "       -1.4088e-01,  2.4315e-01,  2.3036e-01, -5.5339e-01,  4.8154e-02,\n",
              "        4.5662e-01,  3.2338e+00,  2.0199e-02,  4.9019e-02, -1.4132e-02,\n",
              "        7.6017e-02, -1.1527e-01,  2.0060e-01, -7.7657e-02,  2.4328e-01,\n",
              "        1.6368e-01, -3.4118e-01, -6.6070e-02,  1.0152e-01,  3.8232e-02,\n",
              "       -1.7668e-01, -8.8153e-01, -3.3895e-01, -3.5481e-02, -5.5095e-01,\n",
              "       -1.6899e-02, -4.3982e-01,  3.9004e-02,  4.0447e-01, -2.5880e-01,\n",
              "        6.4594e-01,  2.6641e-01,  2.8009e-01, -2.4625e-02,  6.3302e-01,\n",
              "       -3.1700e-01,  1.0271e-01,  3.0886e-01,  9.7792e-02, -3.8227e-01,\n",
              "        8.6552e-02,  4.7075e-02,  2.3511e-01, -3.2127e-01, -2.8538e-01,\n",
              "        1.6670e-01, -4.9707e-03, -6.2714e-01, -2.4904e-01,  2.9713e-01,\n",
              "        1.4379e-01, -1.2325e-01, -5.8178e-02, -1.0290e-03, -8.2126e-02,\n",
              "        3.6935e-01, -5.8442e-04,  3.4286e-01,  2.8426e-01, -6.8599e-02,\n",
              "        6.5747e-01, -2.9087e-02,  1.6184e-01,  7.3672e-02, -3.0343e-01,\n",
              "        9.5733e-02, -5.2860e-01, -2.2898e-01,  6.4079e-02,  1.5218e-02,\n",
              "        3.4921e-01, -4.3960e-01, -4.3983e-01,  7.7515e-01, -8.7767e-01,\n",
              "       -8.7504e-02,  3.9598e-01,  6.2362e-01, -2.6211e-01, -3.0539e-01,\n",
              "       -2.2964e-02,  3.0567e-01,  6.7660e-02,  1.5383e-01, -1.1211e-01,\n",
              "       -9.1540e-02,  8.2562e-02,  1.6897e-01, -3.2952e-02, -2.8775e-01,\n",
              "       -2.2320e-01, -9.0426e-02,  1.2407e+00, -1.8244e-01, -7.5219e-03,\n",
              "       -4.1388e-02, -1.1083e-02,  7.8186e-02,  3.8511e-01,  2.3334e-01,\n",
              "        1.4414e-01, -9.1070e-04, -2.6388e-01, -2.0481e-01,  1.0099e-01,\n",
              "        1.4076e-01,  2.8834e-01, -4.5429e-02,  3.7247e-01,  1.3645e-01,\n",
              "       -6.7457e-01,  2.2786e-01,  1.2599e-01,  2.9091e-02,  3.0428e-02,\n",
              "       -1.3028e-01,  1.9408e-01,  4.9014e-01, -3.9121e-01, -7.5952e-02,\n",
              "        7.4731e-02,  1.8902e-01, -1.6922e-01, -2.6019e-01, -3.9771e-02,\n",
              "       -2.4153e-01,  1.0875e-01,  3.0434e-01,  3.6009e-02,  1.4264e+00,\n",
              "        1.2759e-01, -7.3811e-02, -2.0418e-01,  8.0016e-03,  1.5381e-01,\n",
              "        2.0223e-01,  2.8274e-01,  9.6206e-02, -3.3634e-01,  5.0983e-01,\n",
              "        3.2625e-01, -2.6535e-01,  3.7400e-01, -3.0388e-01, -4.0033e-01,\n",
              "       -4.2910e-02, -6.7897e-02, -2.9332e-01,  1.0978e-01, -4.5365e-02,\n",
              "        2.3222e-01, -3.1134e-01, -2.8983e-01, -6.6687e-01,  5.3097e-01,\n",
              "        1.9461e-01,  3.6670e-01,  2.6185e-01, -6.5187e-01,  1.0266e-01,\n",
              "        1.1363e-01, -1.2953e-01, -6.8246e-01, -1.8751e-01,  1.4760e-01,\n",
              "        1.0765e+00, -2.2908e-01, -9.3435e-03, -2.0651e-01, -3.5225e-01,\n",
              "       -2.6720e-01, -3.4307e-03,  2.5906e-01,  2.1759e-01,  6.6158e-01,\n",
              "        1.2180e-01,  1.9957e-01, -2.0303e-01,  3.4474e-01, -2.4328e-01,\n",
              "        1.3139e-01, -8.8767e-03,  3.3617e-01,  3.0591e-02,  2.5577e-01],\n",
              "      dtype=float32)"
            ]
          },
          "metadata": {
            "tags": []
          },
          "execution_count": 45
        }
      ]
    },
    {
      "cell_type": "code",
      "metadata": {
        "id": "zfk8IoFPKpXx"
      },
      "source": [
        "embedding_dim = 200\n",
        "\n",
        "# Get 200-dim dense vector for each of the 10000 words in out vocabulary\n",
        "embedding_matrix = np.zeros((vocab_size, embedding_dim))\n",
        "\n",
        "for word, i in wordtoix.items():\n",
        "    #if i < max_words:\n",
        "    embedding_vector = embeddings_index.get(word)\n",
        "    if embedding_vector is not None:\n",
        "        # Words not found in the embedding index will be all zeros\n",
        "        embedding_matrix[i] = embedding_vector"
      ],
      "execution_count": null,
      "outputs": []
    },
    {
      "cell_type": "code",
      "metadata": {
        "id": "Q2iAZI-0LMq7",
        "colab": {
          "base_uri": "https://localhost:8080/"
        },
        "outputId": "38559614-37ae-4658-8738-7ffdbb75fafc"
      },
      "source": [
        "embedding_matrix.shape"
      ],
      "execution_count": null,
      "outputs": [
        {
          "output_type": "execute_result",
          "data": {
            "text/plain": [
              "(1652, 200)"
            ]
          },
          "metadata": {
            "tags": []
          },
          "execution_count": 47
        }
      ]
    },
    {
      "cell_type": "markdown",
      "metadata": {
        "id": "zq7U7LHLrb2r"
      },
      "source": [
        "# Model architecture"
      ]
    },
    {
      "cell_type": "code",
      "metadata": {
        "id": "aqLWR8nl9v_g"
      },
      "source": [
        "#max_length = 34\n",
        "#vocab_size = 7579"
      ],
      "execution_count": null,
      "outputs": []
    },
    {
      "cell_type": "code",
      "metadata": {
        "id": "wTIPeP-MLQzd"
      },
      "source": [
        "inputs1 = Input(shape=(2048,))\n",
        "fe1 = Dropout(0.5)(inputs1)\n",
        "fe2 = Dense(256, activation='relu')(fe1)\n",
        "\n",
        "inputs2 = Input(shape=(max_length,))\n",
        "se1 = Embedding(vocab_size, embedding_dim, mask_zero=True)(inputs2)\n",
        "se2 = Dropout(0.5)(se1)\n",
        "se3 = LSTM(256)(se2)\n",
        "\n",
        "decoder1 = add([fe2, se3])\n",
        "decoder2 = Dense(256, activation='relu')(decoder1)\n",
        "outputs = Dense(vocab_size, activation='softmax')(decoder2)\n",
        "model = Model(inputs=[inputs1, inputs2], outputs=outputs)"
      ],
      "execution_count": null,
      "outputs": []
    },
    {
      "cell_type": "code",
      "metadata": {
        "id": "SgreRmNpLVZ2",
        "colab": {
          "base_uri": "https://localhost:8080/"
        },
        "outputId": "7aae2130-c9ec-4e8e-b370-f48d13dbef61"
      },
      "source": [
        "model.summary()"
      ],
      "execution_count": null,
      "outputs": [
        {
          "output_type": "stream",
          "text": [
            "Model: \"model\"\n",
            "__________________________________________________________________________________________________\n",
            "Layer (type)                    Output Shape         Param #     Connected to                     \n",
            "==================================================================================================\n",
            "input_2 (InputLayer)            [(None, 34)]         0                                            \n",
            "__________________________________________________________________________________________________\n",
            "input_1 (InputLayer)            [(None, 2048)]       0                                            \n",
            "__________________________________________________________________________________________________\n",
            "embedding (Embedding)           (None, 34, 200)      330400      input_2[0][0]                    \n",
            "__________________________________________________________________________________________________\n",
            "dropout (Dropout)               (None, 2048)         0           input_1[0][0]                    \n",
            "__________________________________________________________________________________________________\n",
            "dropout_1 (Dropout)             (None, 34, 200)      0           embedding[0][0]                  \n",
            "__________________________________________________________________________________________________\n",
            "dense (Dense)                   (None, 256)          524544      dropout[0][0]                    \n",
            "__________________________________________________________________________________________________\n",
            "lstm (LSTM)                     (None, 256)          467968      dropout_1[0][0]                  \n",
            "__________________________________________________________________________________________________\n",
            "add (Add)                       (None, 256)          0           dense[0][0]                      \n",
            "                                                                 lstm[0][0]                       \n",
            "__________________________________________________________________________________________________\n",
            "dense_1 (Dense)                 (None, 256)          65792       add[0][0]                        \n",
            "__________________________________________________________________________________________________\n",
            "dense_2 (Dense)                 (None, 1652)         424564      dense_1[0][0]                    \n",
            "==================================================================================================\n",
            "Total params: 1,813,268\n",
            "Trainable params: 1,813,268\n",
            "Non-trainable params: 0\n",
            "__________________________________________________________________________________________________\n"
          ],
          "name": "stdout"
        }
      ]
    },
    {
      "cell_type": "code",
      "metadata": {
        "id": "-LS6F-LOLanZ",
        "colab": {
          "base_uri": "https://localhost:8080/"
        },
        "outputId": "b9ad16d9-b002-40ae-e055-5846fc57c862"
      },
      "source": [
        "model.layers[2]"
      ],
      "execution_count": null,
      "outputs": [
        {
          "output_type": "execute_result",
          "data": {
            "text/plain": [
              "<tensorflow.python.keras.layers.embeddings.Embedding at 0x7fd61c326f90>"
            ]
          },
          "metadata": {
            "tags": []
          },
          "execution_count": 80
        }
      ]
    },
    {
      "cell_type": "code",
      "metadata": {
        "id": "PSHNRfqGLc3H"
      },
      "source": [
        "model.layers[2].set_weights([embedding_matrix])\n",
        "model.layers[2].trainable = False"
      ],
      "execution_count": null,
      "outputs": []
    },
    {
      "cell_type": "code",
      "metadata": {
        "id": "Q8Qsdm5HLfzB"
      },
      "source": [
        "model.compile(loss='categorical_crossentropy', optimizer='adam', metrics=['accuracy'])"
      ],
      "execution_count": null,
      "outputs": []
    },
    {
      "cell_type": "code",
      "metadata": {
        "id": "zPBXRrAULlnu"
      },
      "source": [
        "epochs = 200\n",
        "number_pics_per_bath = 6\n",
        "steps = len(train_descriptions)//number_pics_per_bath"
      ],
      "execution_count": null,
      "outputs": []
    },
    {
      "cell_type": "code",
      "metadata": {
        "id": "v5eBGpcqLmZR"
      },
      "source": [
        "# for i in range(epochs):\n",
        "#     generator = data_generator(train_descriptions, train_features, wordtoix, max_length, number_pics_per_bath)\n",
        "#     generator_valid = data_generator(test_descriptions, test_features, wordtoix_test, max_length, number_pics_per_bath)\n",
        "#     model.fit(generator, epochs=1, steps_per_epoch=steps, verbose=1, \n",
        "#                         validation_data=generator_valid, validation_steps =len(test_descriptions)//number_pics_per_bath)\n",
        "#     #model.save('/content/drive/My Drive/Image captioning/input_output/model_' + str(i) + '.h5')"
      ],
      "execution_count": null,
      "outputs": []
    },
    {
      "cell_type": "code",
      "metadata": {
        "colab": {
          "base_uri": "https://localhost:8080/"
        },
        "id": "eQatuH8AUcwn",
        "outputId": "fe07f66a-2348-485c-b16b-c201e5aac014"
      },
      "source": [
        "#generator = data_generator(train_descriptions, train_features, wordtoix, max_length, number_pics_per_bath)\n",
        "#generator_valid = data_generator(test_descriptions, test_features, wordtoix_test, max_length, number_pics_per_bath)\n",
        "history = model.fit(data_generator(train_descriptions, train_features, wordtoix, max_length, number_pics_per_bath), \n",
        "                    epochs=epochs, steps_per_epoch=steps, verbose=1, \n",
        "                    validation_data=data_generator(test_descriptions, test_features, wordtoix_test, max_length, number_pics_per_bath), \n",
        "                    validation_steps =len(test_descriptions)//number_pics_per_bath)\n",
        "#model.save('/content/drive/My Drive/Image captioning/input_output/model_' + str(i) + '.h5')"
      ],
      "execution_count": null,
      "outputs": [
        {
          "output_type": "stream",
          "text": [
            "Epoch 1/200\n",
            "1000/1000 [==============================] - 101s 98ms/step - loss: 4.7250 - accuracy: 0.1926 - val_loss: 8.0321 - val_accuracy: 0.0080\n",
            "Epoch 2/200\n",
            "1000/1000 [==============================] - 96s 96ms/step - loss: 3.5662 - accuracy: 0.2796 - val_loss: 8.7353 - val_accuracy: 0.0074\n",
            "Epoch 3/200\n",
            "1000/1000 [==============================] - 99s 99ms/step - loss: 3.2899 - accuracy: 0.3052 - val_loss: 9.1658 - val_accuracy: 0.0079\n",
            "Epoch 4/200\n",
            "1000/1000 [==============================] - 99s 99ms/step - loss: 3.1296 - accuracy: 0.3199 - val_loss: 9.4273 - val_accuracy: 0.0080\n",
            "Epoch 5/200\n",
            "1000/1000 [==============================] - 98s 98ms/step - loss: 3.0159 - accuracy: 0.3303 - val_loss: 9.6874 - val_accuracy: 0.0078\n",
            "Epoch 6/200\n",
            "1000/1000 [==============================] - 98s 98ms/step - loss: 2.9314 - accuracy: 0.3397 - val_loss: 10.0162 - val_accuracy: 0.0078\n",
            "Epoch 7/200\n",
            "1000/1000 [==============================] - 98s 98ms/step - loss: 2.8603 - accuracy: 0.3454 - val_loss: 10.3235 - val_accuracy: 0.0071\n",
            "Epoch 8/200\n",
            "1000/1000 [==============================] - 97s 97ms/step - loss: 2.8031 - accuracy: 0.3515 - val_loss: 10.6113 - val_accuracy: 0.0065\n",
            "Epoch 9/200\n",
            "1000/1000 [==============================] - 99s 99ms/step - loss: 2.7538 - accuracy: 0.3574 - val_loss: 10.8242 - val_accuracy: 0.0065\n",
            "Epoch 10/200\n",
            "1000/1000 [==============================] - 99s 99ms/step - loss: 2.7082 - accuracy: 0.3622 - val_loss: 11.1227 - val_accuracy: 0.0078\n",
            "Epoch 11/200\n",
            "1000/1000 [==============================] - 99s 99ms/step - loss: 2.6731 - accuracy: 0.3655 - val_loss: 11.1952 - val_accuracy: 0.0084\n",
            "Epoch 12/200\n",
            "1000/1000 [==============================] - 98s 98ms/step - loss: 2.6377 - accuracy: 0.3691 - val_loss: 11.5718 - val_accuracy: 0.0081\n",
            "Epoch 13/200\n",
            "1000/1000 [==============================] - 95s 95ms/step - loss: 2.6077 - accuracy: 0.3729 - val_loss: 11.6821 - val_accuracy: 0.0079\n",
            "Epoch 14/200\n",
            "1000/1000 [==============================] - 98s 98ms/step - loss: 2.5821 - accuracy: 0.3756 - val_loss: 11.9485 - val_accuracy: 0.0073\n",
            "Epoch 15/200\n",
            "1000/1000 [==============================] - 100s 100ms/step - loss: 2.5584 - accuracy: 0.3790 - val_loss: 12.2244 - val_accuracy: 0.0075\n",
            "Epoch 16/200\n",
            "1000/1000 [==============================] - 98s 98ms/step - loss: 2.5342 - accuracy: 0.3827 - val_loss: 12.2828 - val_accuracy: 0.0070\n",
            "Epoch 17/200\n",
            "1000/1000 [==============================] - 95s 95ms/step - loss: 2.5140 - accuracy: 0.3842 - val_loss: 12.5254 - val_accuracy: 0.0079\n",
            "Epoch 18/200\n",
            "1000/1000 [==============================] - 98s 98ms/step - loss: 2.4967 - accuracy: 0.3878 - val_loss: 12.8413 - val_accuracy: 0.0069\n",
            "Epoch 19/200\n",
            "1000/1000 [==============================] - 97s 97ms/step - loss: 2.4813 - accuracy: 0.3897 - val_loss: 12.9502 - val_accuracy: 0.0074\n",
            "Epoch 20/200\n",
            "1000/1000 [==============================] - 97s 97ms/step - loss: 2.4640 - accuracy: 0.3912 - val_loss: 13.1112 - val_accuracy: 0.0073\n",
            "Epoch 21/200\n",
            "1000/1000 [==============================] - 100s 100ms/step - loss: 2.4448 - accuracy: 0.3933 - val_loss: 13.2999 - val_accuracy: 0.0071\n",
            "Epoch 22/200\n",
            "1000/1000 [==============================] - 98s 98ms/step - loss: 2.4360 - accuracy: 0.3942 - val_loss: 13.6716 - val_accuracy: 0.0064\n",
            "Epoch 23/200\n",
            "1000/1000 [==============================] - 99s 99ms/step - loss: 2.4233 - accuracy: 0.3966 - val_loss: 13.9352 - val_accuracy: 0.0072\n",
            "Epoch 24/200\n",
            "1000/1000 [==============================] - 98s 98ms/step - loss: 2.4109 - accuracy: 0.3988 - val_loss: 14.0471 - val_accuracy: 0.0073\n",
            "Epoch 25/200\n",
            "1000/1000 [==============================] - 98s 98ms/step - loss: 2.3999 - accuracy: 0.3992 - val_loss: 13.9109 - val_accuracy: 0.0069\n",
            "Epoch 26/200\n",
            "1000/1000 [==============================] - 99s 99ms/step - loss: 2.3883 - accuracy: 0.4017 - val_loss: 14.2319 - val_accuracy: 0.0071\n",
            "Epoch 27/200\n",
            "1000/1000 [==============================] - 99s 99ms/step - loss: 2.3797 - accuracy: 0.4024 - val_loss: 14.1340 - val_accuracy: 0.0067\n",
            "Epoch 28/200\n",
            "1000/1000 [==============================] - 99s 99ms/step - loss: 2.3671 - accuracy: 0.4034 - val_loss: 14.5017 - val_accuracy: 0.0065\n",
            "Epoch 29/200\n",
            "1000/1000 [==============================] - 99s 99ms/step - loss: 2.3588 - accuracy: 0.4053 - val_loss: 14.4703 - val_accuracy: 0.0062\n",
            "Epoch 30/200\n",
            "1000/1000 [==============================] - 98s 98ms/step - loss: 2.3520 - accuracy: 0.4046 - val_loss: 14.5739 - val_accuracy: 0.0065\n",
            "Epoch 31/200\n",
            "1000/1000 [==============================] - 99s 99ms/step - loss: 2.3405 - accuracy: 0.4074 - val_loss: 14.7476 - val_accuracy: 0.0062\n",
            "Epoch 32/200\n",
            "1000/1000 [==============================] - 100s 100ms/step - loss: 2.3335 - accuracy: 0.4086 - val_loss: 14.9936 - val_accuracy: 0.0065\n",
            "Epoch 33/200\n",
            "1000/1000 [==============================] - 99s 99ms/step - loss: 2.3287 - accuracy: 0.4103 - val_loss: 14.8140 - val_accuracy: 0.0060\n",
            "Epoch 34/200\n",
            "1000/1000 [==============================] - 100s 100ms/step - loss: 2.3217 - accuracy: 0.4101 - val_loss: 14.9749 - val_accuracy: 0.0061\n",
            "Epoch 35/200\n",
            "1000/1000 [==============================] - 100s 100ms/step - loss: 2.3108 - accuracy: 0.4114 - val_loss: 15.1564 - val_accuracy: 0.0058\n",
            "Epoch 36/200\n",
            "1000/1000 [==============================] - 100s 100ms/step - loss: 2.3098 - accuracy: 0.4126 - val_loss: 15.1086 - val_accuracy: 0.0056\n",
            "Epoch 37/200\n",
            "1000/1000 [==============================] - 98s 98ms/step - loss: 2.3033 - accuracy: 0.4122 - val_loss: 15.2164 - val_accuracy: 0.0063\n",
            "Epoch 38/200\n",
            "1000/1000 [==============================] - 98s 98ms/step - loss: 2.2927 - accuracy: 0.4143 - val_loss: 15.4828 - val_accuracy: 0.0056\n",
            "Epoch 39/200\n",
            "1000/1000 [==============================] - 98s 98ms/step - loss: 2.2907 - accuracy: 0.4138 - val_loss: 15.3263 - val_accuracy: 0.0060\n",
            "Epoch 40/200\n",
            "1000/1000 [==============================] - 98s 98ms/step - loss: 2.2858 - accuracy: 0.4148 - val_loss: 15.7478 - val_accuracy: 0.0055\n",
            "Epoch 41/200\n",
            "1000/1000 [==============================] - 99s 99ms/step - loss: 2.2798 - accuracy: 0.4178 - val_loss: 15.6470 - val_accuracy: 0.0055\n",
            "Epoch 42/200\n",
            "1000/1000 [==============================] - 98s 98ms/step - loss: 2.2749 - accuracy: 0.4183 - val_loss: 15.7440 - val_accuracy: 0.0057\n",
            "Epoch 43/200\n",
            "1000/1000 [==============================] - 100s 100ms/step - loss: 2.2718 - accuracy: 0.4176 - val_loss: 15.6961 - val_accuracy: 0.0060\n",
            "Epoch 44/200\n",
            "1000/1000 [==============================] - 97s 97ms/step - loss: 2.2667 - accuracy: 0.4181 - val_loss: 15.8433 - val_accuracy: 0.0057\n",
            "Epoch 45/200\n",
            "1000/1000 [==============================] - 98s 98ms/step - loss: 2.2637 - accuracy: 0.4183 - val_loss: 15.8270 - val_accuracy: 0.0054\n",
            "Epoch 46/200\n",
            "1000/1000 [==============================] - 97s 97ms/step - loss: 2.2559 - accuracy: 0.4212 - val_loss: 16.1650 - val_accuracy: 0.0059\n",
            "Epoch 47/200\n",
            "1000/1000 [==============================] - 98s 98ms/step - loss: 2.2491 - accuracy: 0.4210 - val_loss: 15.8977 - val_accuracy: 0.0053\n",
            "Epoch 48/200\n",
            "1000/1000 [==============================] - 97s 97ms/step - loss: 2.2509 - accuracy: 0.4199 - val_loss: 16.1194 - val_accuracy: 0.0056\n",
            "Epoch 49/200\n",
            "1000/1000 [==============================] - 98s 98ms/step - loss: 2.2477 - accuracy: 0.4216 - val_loss: 16.1158 - val_accuracy: 0.0052\n",
            "Epoch 50/200\n",
            "1000/1000 [==============================] - 99s 99ms/step - loss: 2.2405 - accuracy: 0.4236 - val_loss: 16.1835 - val_accuracy: 0.0053\n",
            "Epoch 51/200\n",
            "1000/1000 [==============================] - 98s 98ms/step - loss: 2.2401 - accuracy: 0.4225 - val_loss: 16.1571 - val_accuracy: 0.0050\n",
            "Epoch 52/200\n",
            "1000/1000 [==============================] - 97s 97ms/step - loss: 2.2310 - accuracy: 0.4248 - val_loss: 16.3590 - val_accuracy: 0.0055\n",
            "Epoch 53/200\n",
            "1000/1000 [==============================] - 98s 98ms/step - loss: 2.2289 - accuracy: 0.4236 - val_loss: 16.3878 - val_accuracy: 0.0050\n",
            "Epoch 54/200\n",
            "1000/1000 [==============================] - 97s 97ms/step - loss: 2.2239 - accuracy: 0.4243 - val_loss: 16.4181 - val_accuracy: 0.0058\n",
            "Epoch 55/200\n",
            "1000/1000 [==============================] - 99s 99ms/step - loss: 2.2221 - accuracy: 0.4242 - val_loss: 16.5562 - val_accuracy: 0.0052\n",
            "Epoch 56/200\n",
            "1000/1000 [==============================] - 98s 98ms/step - loss: 2.2198 - accuracy: 0.4245 - val_loss: 16.6977 - val_accuracy: 0.0052\n",
            "Epoch 57/200\n",
            "1000/1000 [==============================] - 97s 97ms/step - loss: 2.2173 - accuracy: 0.4247 - val_loss: 16.5540 - val_accuracy: 0.0055\n",
            "Epoch 58/200\n",
            "1000/1000 [==============================] - 98s 98ms/step - loss: 2.2148 - accuracy: 0.4272 - val_loss: 16.7766 - val_accuracy: 0.0054\n",
            "Epoch 59/200\n",
            "1000/1000 [==============================] - 97s 97ms/step - loss: 2.2110 - accuracy: 0.4261 - val_loss: 17.0512 - val_accuracy: 0.0050\n",
            "Epoch 60/200\n",
            "1000/1000 [==============================] - 98s 98ms/step - loss: 2.2054 - accuracy: 0.4275 - val_loss: 16.7511 - val_accuracy: 0.0047\n",
            "Epoch 61/200\n",
            "1000/1000 [==============================] - 98s 98ms/step - loss: 2.2026 - accuracy: 0.4280 - val_loss: 16.9264 - val_accuracy: 0.0049\n",
            "Epoch 62/200\n",
            "1000/1000 [==============================] - 96s 96ms/step - loss: 2.1985 - accuracy: 0.4289 - val_loss: 17.0737 - val_accuracy: 0.0056\n",
            "Epoch 63/200\n",
            "1000/1000 [==============================] - 99s 99ms/step - loss: 2.1941 - accuracy: 0.4289 - val_loss: 16.9822 - val_accuracy: 0.0053\n",
            "Epoch 64/200\n",
            "1000/1000 [==============================] - 98s 98ms/step - loss: 2.1944 - accuracy: 0.4301 - val_loss: 17.0029 - val_accuracy: 0.0055\n",
            "Epoch 65/200\n",
            "1000/1000 [==============================] - 99s 99ms/step - loss: 2.1912 - accuracy: 0.4307 - val_loss: 17.2230 - val_accuracy: 0.0052\n",
            "Epoch 66/200\n",
            "1000/1000 [==============================] - 99s 99ms/step - loss: 2.1915 - accuracy: 0.4298 - val_loss: 17.0844 - val_accuracy: 0.0058\n",
            "Epoch 67/200\n",
            "1000/1000 [==============================] - 96s 96ms/step - loss: 2.1870 - accuracy: 0.4325 - val_loss: 17.1834 - val_accuracy: 0.0049\n",
            "Epoch 68/200\n",
            "1000/1000 [==============================] - 97s 97ms/step - loss: 2.1832 - accuracy: 0.4321 - val_loss: 17.2466 - val_accuracy: 0.0052\n",
            "Epoch 69/200\n",
            "1000/1000 [==============================] - 96s 96ms/step - loss: 2.1834 - accuracy: 0.4317 - val_loss: 17.4349 - val_accuracy: 0.0056\n",
            "Epoch 70/200\n",
            "1000/1000 [==============================] - 97s 97ms/step - loss: 2.1825 - accuracy: 0.4296 - val_loss: 17.3630 - val_accuracy: 0.0058\n",
            "Epoch 71/200\n",
            "1000/1000 [==============================] - 97s 97ms/step - loss: 2.1826 - accuracy: 0.4305 - val_loss: 17.1456 - val_accuracy: 0.0059\n",
            "Epoch 72/200\n",
            "1000/1000 [==============================] - 95s 95ms/step - loss: 2.1765 - accuracy: 0.4318 - val_loss: 17.3883 - val_accuracy: 0.0064\n",
            "Epoch 73/200\n",
            "1000/1000 [==============================] - 97s 97ms/step - loss: 2.1691 - accuracy: 0.4326 - val_loss: 17.4365 - val_accuracy: 0.0059\n",
            "Epoch 74/200\n",
            "1000/1000 [==============================] - 98s 98ms/step - loss: 2.1689 - accuracy: 0.4334 - val_loss: 17.6269 - val_accuracy: 0.0059\n",
            "Epoch 75/200\n",
            "1000/1000 [==============================] - 97s 97ms/step - loss: 2.1655 - accuracy: 0.4339 - val_loss: 17.5291 - val_accuracy: 0.0049\n",
            "Epoch 76/200\n",
            "1000/1000 [==============================] - 99s 99ms/step - loss: 2.1616 - accuracy: 0.4327 - val_loss: 17.6337 - val_accuracy: 0.0051\n",
            "Epoch 77/200\n",
            "1000/1000 [==============================] - 98s 98ms/step - loss: 2.1642 - accuracy: 0.4340 - val_loss: 17.4710 - val_accuracy: 0.0055\n",
            "Epoch 78/200\n",
            "1000/1000 [==============================] - 98s 98ms/step - loss: 2.1632 - accuracy: 0.4346 - val_loss: 17.9544 - val_accuracy: 0.0053\n",
            "Epoch 79/200\n",
            "1000/1000 [==============================] - 98s 98ms/step - loss: 2.1602 - accuracy: 0.4342 - val_loss: 17.5374 - val_accuracy: 0.0053\n",
            "Epoch 80/200\n",
            "1000/1000 [==============================] - 99s 99ms/step - loss: 2.1597 - accuracy: 0.4339 - val_loss: 17.9231 - val_accuracy: 0.0053\n",
            "Epoch 81/200\n",
            "1000/1000 [==============================] - 101s 101ms/step - loss: 2.1523 - accuracy: 0.4363 - val_loss: 17.9126 - val_accuracy: 0.0056\n",
            "Epoch 82/200\n",
            "1000/1000 [==============================] - 99s 99ms/step - loss: 2.1529 - accuracy: 0.4366 - val_loss: 17.7015 - val_accuracy: 0.0054\n",
            "Epoch 83/200\n",
            "1000/1000 [==============================] - 96s 96ms/step - loss: 2.1501 - accuracy: 0.4347 - val_loss: 18.0351 - val_accuracy: 0.0054\n",
            "Epoch 84/200\n",
            "1000/1000 [==============================] - 97s 97ms/step - loss: 2.1481 - accuracy: 0.4369 - val_loss: 18.2445 - val_accuracy: 0.0054\n",
            "Epoch 85/200\n",
            "1000/1000 [==============================] - 101s 101ms/step - loss: 2.1454 - accuracy: 0.4365 - val_loss: 17.8368 - val_accuracy: 0.0057\n",
            "Epoch 86/200\n",
            "1000/1000 [==============================] - 97s 97ms/step - loss: 2.1471 - accuracy: 0.4359 - val_loss: 18.0937 - val_accuracy: 0.0053\n",
            "Epoch 87/200\n",
            "1000/1000 [==============================] - 98s 98ms/step - loss: 2.1427 - accuracy: 0.4379 - val_loss: 17.9857 - val_accuracy: 0.0054\n",
            "Epoch 88/200\n",
            "1000/1000 [==============================] - 98s 98ms/step - loss: 2.1433 - accuracy: 0.4378 - val_loss: 18.2811 - val_accuracy: 0.0056\n",
            "Epoch 89/200\n",
            "1000/1000 [==============================] - 96s 96ms/step - loss: 2.1430 - accuracy: 0.4360 - val_loss: 17.9557 - val_accuracy: 0.0052\n",
            "Epoch 90/200\n",
            "1000/1000 [==============================] - 99s 99ms/step - loss: 2.1385 - accuracy: 0.4382 - val_loss: 18.0287 - val_accuracy: 0.0052\n",
            "Epoch 91/200\n",
            "1000/1000 [==============================] - 99s 99ms/step - loss: 2.1385 - accuracy: 0.4386 - val_loss: 18.1977 - val_accuracy: 0.0052\n",
            "Epoch 92/200\n",
            "1000/1000 [==============================] - 97s 97ms/step - loss: 2.1391 - accuracy: 0.4363 - val_loss: 17.9771 - val_accuracy: 0.0054\n",
            "Epoch 93/200\n",
            "1000/1000 [==============================] - 97s 97ms/step - loss: 2.1321 - accuracy: 0.4382 - val_loss: 18.0711 - val_accuracy: 0.0056\n",
            "Epoch 94/200\n",
            "1000/1000 [==============================] - 98s 98ms/step - loss: 2.1325 - accuracy: 0.4386 - val_loss: 18.0485 - val_accuracy: 0.0052\n",
            "Epoch 95/200\n",
            "1000/1000 [==============================] - 98s 98ms/step - loss: 2.1301 - accuracy: 0.4387 - val_loss: 18.4362 - val_accuracy: 0.0058\n",
            "Epoch 96/200\n",
            "1000/1000 [==============================] - 96s 96ms/step - loss: 2.1267 - accuracy: 0.4391 - val_loss: 18.3268 - val_accuracy: 0.0050\n",
            "Epoch 97/200\n",
            "1000/1000 [==============================] - 99s 99ms/step - loss: 2.1254 - accuracy: 0.4400 - val_loss: 18.4980 - val_accuracy: 0.0055\n",
            "Epoch 98/200\n",
            "1000/1000 [==============================] - 98s 98ms/step - loss: 2.1272 - accuracy: 0.4407 - val_loss: 18.4540 - val_accuracy: 0.0056\n",
            "Epoch 99/200\n",
            "1000/1000 [==============================] - 97s 97ms/step - loss: 2.1239 - accuracy: 0.4404 - val_loss: 18.3427 - val_accuracy: 0.0052\n",
            "Epoch 100/200\n",
            "1000/1000 [==============================] - 98s 98ms/step - loss: 2.1249 - accuracy: 0.4404 - val_loss: 18.3418 - val_accuracy: 0.0047\n",
            "Epoch 101/200\n",
            "1000/1000 [==============================] - 98s 98ms/step - loss: 2.1249 - accuracy: 0.4401 - val_loss: 18.5397 - val_accuracy: 0.0052\n",
            "Epoch 102/200\n",
            "1000/1000 [==============================] - 97s 97ms/step - loss: 2.1212 - accuracy: 0.4405 - val_loss: 18.7988 - val_accuracy: 0.0052\n",
            "Epoch 103/200\n",
            "1000/1000 [==============================] - 100s 100ms/step - loss: 2.1195 - accuracy: 0.4405 - val_loss: 18.6137 - val_accuracy: 0.0054\n",
            "Epoch 104/200\n",
            "1000/1000 [==============================] - 100s 100ms/step - loss: 2.1208 - accuracy: 0.4412 - val_loss: 18.3515 - val_accuracy: 0.0060\n",
            "Epoch 105/200\n",
            "1000/1000 [==============================] - 98s 98ms/step - loss: 2.1191 - accuracy: 0.4413 - val_loss: 18.4226 - val_accuracy: 0.0058\n",
            "Epoch 106/200\n",
            "1000/1000 [==============================] - 99s 99ms/step - loss: 2.1188 - accuracy: 0.4409 - val_loss: 18.6431 - val_accuracy: 0.0054\n",
            "Epoch 107/200\n",
            "1000/1000 [==============================] - 97s 97ms/step - loss: 2.1109 - accuracy: 0.4429 - val_loss: 18.5137 - val_accuracy: 0.0053\n",
            "Epoch 108/200\n",
            "1000/1000 [==============================] - 97s 97ms/step - loss: 2.1154 - accuracy: 0.4414 - val_loss: 18.6514 - val_accuracy: 0.0058\n",
            "Epoch 109/200\n",
            "1000/1000 [==============================] - 99s 99ms/step - loss: 2.1158 - accuracy: 0.4422 - val_loss: 19.0594 - val_accuracy: 0.0052\n",
            "Epoch 110/200\n",
            "1000/1000 [==============================] - 97s 97ms/step - loss: 2.1133 - accuracy: 0.4407 - val_loss: 18.8545 - val_accuracy: 0.0053\n",
            "Epoch 111/200\n",
            "1000/1000 [==============================] - 98s 98ms/step - loss: 2.1076 - accuracy: 0.4427 - val_loss: 18.8556 - val_accuracy: 0.0053\n",
            "Epoch 112/200\n",
            "   7/1000 [..............................] - ETA: 1:24 - loss: 2.1106 - accuracy: 0.4355"
          ],
          "name": "stdout"
        }
      ]
    },
    {
      "cell_type": "code",
      "metadata": {
        "colab": {
          "base_uri": "https://localhost:8080/"
        },
        "id": "XkYk35amTwYs",
        "outputId": "9bd7db81-4920-4de6-c241-bb3668da4e80"
      },
      "source": [
        "val_acc_per_epoch = history.history['val_accuracy']\n",
        "best_epoch = val_acc_per_epoch.index(max(val_acc_per_epoch)) + 1\n",
        "print('Best epoch: %d' % (best_epoch,))"
      ],
      "execution_count": null,
      "outputs": [
        {
          "output_type": "stream",
          "text": [
            "Best epoch: 1\n"
          ],
          "name": "stdout"
        }
      ]
    },
    {
      "cell_type": "code",
      "metadata": {
        "id": "ur2eqNAnlfFX"
      },
      "source": [
        "# model.optimizer.lr = 0.0001\n",
        "# epochs = 3\n",
        "# number_pics_per_bath = 6\n",
        "# steps = len(train_descriptions)//number_pics_per_bath"
      ],
      "execution_count": null,
      "outputs": []
    },
    {
      "cell_type": "code",
      "metadata": {
        "id": "Dy7piq3tlf1a"
      },
      "source": [
        "# hist =model.fit_generator(data_generator(train_descriptions, train_features, wordtoix, max_length, number_pics_per_bath), \n",
        "#                           epochs=epochs, steps_per_epoch=steps, verbose=1,)\n",
        "#     #model.save('./model_weights/model_' + str(i) + '.h5')"
      ],
      "execution_count": null,
      "outputs": []
    },
    {
      "cell_type": "code",
      "metadata": {
        "id": "TASPf8ns1cU5"
      },
      "source": [
        "def plot_model_history(model_history, acc='accuracy', val_acc='val_accuracy'):\n",
        "    fig, axs = plt.subplots(1,2,figsize=(15,5))\n",
        "    axs[0].plot(range(1,len(model_history.history[acc])+1),model_history.history[acc])\n",
        "    axs[0].plot(range(1,len(model_history.history[val_acc])+1),model_history.history[val_acc])\n",
        "    axs[0].set_title('Model Accuracy')\n",
        "    axs[0].set_ylabel('Accuracy')\n",
        "    axs[0].set_xlabel('Epoch')\n",
        "    axs[0].set_xticks(np.arange(1,len(model_history.history[acc])+1),len(model_history.history[acc])/10)\n",
        "    axs[0].legend(['train', 'val'], loc='best')\n",
        "    axs[1].plot(range(1,len(model_history.history['loss'])+1),model_history.history['loss'])\n",
        "    axs[1].plot(range(1,len(model_history.history['val_loss'])+1),model_history.history['val_loss'])\n",
        "    axs[1].set_title('Model Loss')\n",
        "    axs[1].set_ylabel('Loss')\n",
        "    axs[1].set_xlabel('Epoch')\n",
        "    axs[1].set_xticks(np.arange(1,len(model_history.history['loss'])+1),len(model_history.history['loss'])/10)\n",
        "    axs[1].legend(['train', 'val'], loc='best')\n",
        "    plt.show()\n",
        "plot_model_history(hist)\n"
      ],
      "execution_count": null,
      "outputs": []
    },
    {
      "cell_type": "code",
      "metadata": {
        "id": "nIM_x5eGljlM"
      },
      "source": [
        "model.save_weights('/content/drive/My Drive/Image captioning/input_output/model_31.h5')"
      ],
      "execution_count": null,
      "outputs": []
    },
    {
      "cell_type": "code",
      "metadata": {
        "id": "vperKp4kpMZX"
      },
      "source": [
        "model.load_weights('/content/drive/My Drive/Image captioning/input_output/model_30.h5')"
      ],
      "execution_count": null,
      "outputs": []
    },
    {
      "cell_type": "code",
      "metadata": {
        "id": "6mvcVJVNpSU2"
      },
      "source": [
        "with open(\"/content/drive/My Drive/Image captioning/encoded_test_images_3.pkl\", \"rb\") as encoded_pickle:\n",
        "    encoding_test = load(encoded_pickle)"
      ],
      "execution_count": null,
      "outputs": []
    },
    {
      "cell_type": "code",
      "metadata": {
        "id": "s9mxfhQQpOfs"
      },
      "source": [
        "def greedySearch(photo):\n",
        "    in_text = 'startseq'\n",
        "    for i in range(max_length):\n",
        "        sequence = [wordtoix[w] for w in in_text.split() if w in wordtoix]\n",
        "        sequence = pad_sequences([sequence], maxlen=max_length)\n",
        "        yhat = model.predict([photo,sequence], verbose=0)\n",
        "        #print(yhat.shape)\n",
        "        yhat = np.argmax(yhat)\n",
        "        word = ixtoword[yhat]\n",
        "        in_text += ' ' + word\n",
        "        if word == 'endseq':\n",
        "            break\n",
        "    final = in_text.split()\n",
        "    final = final[1:-1]\n",
        "    final = ' '.join(final)\n",
        "    return final"
      ],
      "execution_count": null,
      "outputs": []
    },
    {
      "cell_type": "code",
      "metadata": {
        "id": "sV4C21iZqU2-"
      },
      "source": [
        "images = '/content/flickr_data/Flickr_Data/Images/'"
      ],
      "execution_count": null,
      "outputs": []
    },
    {
      "cell_type": "code",
      "metadata": {
        "id": "QgCrd26xqImR"
      },
      "source": [
        "import random\n",
        "for i in range(10):\n",
        "  z=random.randint(1, len(encoding_test.keys()))\n",
        "  pic = list(encoding_test.keys())[z]\n",
        "  image = encoding_test[pic].reshape((1,2048))\n",
        "  x=plt.imread(images+pic)\n",
        "  plt.imshow(x)\n",
        "  plt.show()\n",
        "  print(\"Greedy:\",greedySearch(image))"
      ],
      "execution_count": null,
      "outputs": []
    },
    {
      "cell_type": "markdown",
      "metadata": {
        "id": "tn5CGVPQqsQ8"
      },
      "source": [
        "# Encode new image and generator caption"
      ]
    },
    {
      "cell_type": "code",
      "metadata": {
        "id": "2rz2Nl8dqrf5"
      },
      "source": [
        "img_path = '/content/quyendeptrai.jpg'\n",
        "feature_vector = encode(img_path)\n",
        "feature_vector.shape"
      ],
      "execution_count": null,
      "outputs": []
    },
    {
      "cell_type": "code",
      "metadata": {
        "id": "f9cWYm5asvsq"
      },
      "source": [
        "new_fea_vec = feature_vector.reshape((1,2048))"
      ],
      "execution_count": null,
      "outputs": []
    },
    {
      "cell_type": "code",
      "metadata": {
        "id": "Bh-0LXqMs6sp"
      },
      "source": [
        "x=plt.imread(img_path)\n",
        "plt.imshow(x)\n",
        "plt.show()\n",
        "print(\"Greedy:\",greedySearch(new_fea_vec))"
      ],
      "execution_count": null,
      "outputs": []
    },
    {
      "cell_type": "code",
      "metadata": {
        "id": "fiQIfNIt3L3i"
      },
      "source": [
        "def fast_predict(img_path):\n",
        "  feature_vector = encode(img_path)\n",
        "  new_fea_vec = feature_vector.reshape((1,2048))\n",
        "  x=plt.imread(img_path)\n",
        "  plt.imshow(x)\n",
        "  plt.show()\n",
        "  print(\"Description:\",greedySearch(new_fea_vec))"
      ],
      "execution_count": null,
      "outputs": []
    },
    {
      "cell_type": "code",
      "metadata": {
        "id": "Xong3HAM3e9E"
      },
      "source": [
        "fast_predict('/content/quyendeptrai2.jpg')"
      ],
      "execution_count": null,
      "outputs": []
    },
    {
      "cell_type": "code",
      "metadata": {
        "id": "wgvNGaI13kpT"
      },
      "source": [
        "fast_predict('/content/fourdogs.jpg')"
      ],
      "execution_count": null,
      "outputs": []
    },
    {
      "cell_type": "code",
      "metadata": {
        "id": "LZTboiOJ4B-e"
      },
      "source": [
        "fast_predict('/content/bigfish.jpg')"
      ],
      "execution_count": null,
      "outputs": []
    },
    {
      "cell_type": "code",
      "metadata": {
        "colab": {
          "base_uri": "https://localhost:8080/"
        },
        "id": "QzAhh5fqk7Yj",
        "outputId": "f47a2ef4-07ef-46bb-c332-5a611af37a58"
      },
      "source": [
        "from nltk.translate.bleu_score import sentence_bleu\n",
        "reference = [['this', 'is', 'a', 'test', 'hello'], ['this', 'is' 'test']]\n",
        "candidate = ['this', 'is', 'a', 'test']\n",
        "score = sentence_bleu(reference, candidate)\n",
        "print(score)"
      ],
      "execution_count": null,
      "outputs": [
        {
          "output_type": "stream",
          "text": [
            "0.7788007830714049\n"
          ],
          "name": "stdout"
        }
      ]
    },
    {
      "cell_type": "markdown",
      "metadata": {
        "id": "4sGDJjdCCot2"
      },
      "source": [
        "# resnet"
      ]
    },
    {
      "cell_type": "code",
      "metadata": {
        "id": "8gCq35U2CrQp"
      },
      "source": [
        "model_2=ResNet50(include_top=False, weights='imagenet',pooling='avg',input_shape=(224,224,3))\n",
        "model_2.summary()"
      ],
      "execution_count": null,
      "outputs": []
    },
    {
      "cell_type": "code",
      "metadata": {
        "id": "hVMULG9dC1vx"
      },
      "source": [
        "import numpy as np\n",
        "dick = {}\n",
        "dick[1] = [np.array([1,2,3,4]),np.array([1,2,3,4]),np.array([1,2,3,4]),np.array([1,2,3,4])]\n",
        "dick[2] = [np.array([1,2,3,4]),np.array([1,2,3,4]),np.array([1,2,3,4]),np.array([1,2,3,4])]\n",
        "dick[3] = [np.array([1,2,3,4]),np.array([1,2,3,4]),np.array([1,2,3,4]),np.array([1,2,3,4])]\n",
        "dick"
      ],
      "execution_count": null,
      "outputs": []
    },
    {
      "cell_type": "code",
      "metadata": {
        "id": "XecLQJ1MP2xD"
      },
      "source": [
        "for key, val in dick.items():\n",
        "  total = []\n",
        "  for cc in val:\n",
        "    t = []\n",
        "    t.extend(cc)\n",
        "    total.append(t)\n",
        "  dick[key] = total\n",
        "dick"
      ],
      "execution_count": null,
      "outputs": []
    },
    {
      "cell_type": "code",
      "metadata": {
        "id": "hVGQEW9NSmQe"
      },
      "source": [
        "s  = input()\n",
        "arr = []\n",
        "while(1):\n",
        "  n=input()\n",
        "  if n == '.' :\n",
        "    break\n",
        "  else : arr.append(n) \n"
      ],
      "execution_count": null,
      "outputs": []
    }
  ]
}